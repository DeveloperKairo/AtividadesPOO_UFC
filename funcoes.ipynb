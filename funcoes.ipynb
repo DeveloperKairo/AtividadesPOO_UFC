{
 "cells": [
  {
   "cell_type": "markdown",
   "id": "f188490c",
   "metadata": {},
   "source": [
    "#Sistema de Controle de Estoque Modular com Funções\n",
    "\n",
    "**Enunciado:** uma cantina escolar precisa controlar o estoque de produtos (refrigerante, suco, sanduíche,\n",
    "bolo, café etc.). O objetivo é desenvolver um programa modular, organizado apenas com funções e\n",
    "variáveis locais e globais, que permita registrar, atualizar e consultar o estoque desses produtos."
   ]
  },
  {
   "cell_type": "code",
   "execution_count": null,
   "id": "7a4122a7",
   "metadata": {},
   "outputs": [],
   "source": [
    "estoque_comida = {\n",
    "    \"arroz\": 25,\n",
    "    \"feijao\": 18,\n",
    "    \"macarrao\": 40,\n",
    "    \"carne\": 12,\n",
    "    \"frango\": 20,\n",
    "    \"batata\": 30,\n",
    "    \"tomate\": 22,\n",
    "    \"cenoura\": 15,\n",
    "    \"pao\": 50,\n",
    "    \"queijo\": 10\n",
    "}\n",
    "\n",
    "estoque_bebida = {\n",
    "    \"agua\": 60,\n",
    "    \"refrigerante\": 35,\n",
    "    \"suco\": 25,\n",
    "    \"cerveja\": 40,\n",
    "    \"vinho\": 15,\n",
    "    \"leite\": 20,\n",
    "    \"cha\": 18,\n",
    "    \"cafe\": 22,\n",
    "    \"energetico\": 10,\n",
    "    \"agua_gasificada\": 12\n",
    "}"
   ]
  }
 ],
 "metadata": {
  "language_info": {
   "name": "python"
  }
 },
 "nbformat": 4,
 "nbformat_minor": 5
}
