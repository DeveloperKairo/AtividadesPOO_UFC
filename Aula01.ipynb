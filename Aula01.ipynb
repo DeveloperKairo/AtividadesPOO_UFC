{
  "nbformat": 4,
  "nbformat_minor": 0,
  "metadata": {
    "colab": {
      "provenance": []
    },
    "kernelspec": {
      "name": "python3",
      "display_name": "Python 3"
    },
    "language_info": {
      "name": "python"
    }
  },
  "cells": [
    {
      "cell_type": "markdown",
      "source": [
        "Algoritmo que identifica se três coordenadas podem ou não formar um triângulo e, se sim, classifica o triângulo em: Equilátero, Escaleno ou Isósceles"
      ],
      "metadata": {
        "id": "yIgTa-kHnZGG"
      }
    },
    {
      "cell_type": "code",
      "execution_count": 4,
      "metadata": {
        "colab": {
          "base_uri": "https://localhost:8080/"
        },
        "id": "RRgkRgP7m6i9",
        "outputId": "5a426fbe-443c-4f3d-f870-ce1111cd429d"
      },
      "outputs": [
        {
          "output_type": "stream",
          "name": "stdout",
          "text": [
            "Digite a coordenada x do primeiro ponto: 1\n",
            "Digite a coordenada y do primeiro ponto2\n",
            "Digite a coordenada x do segundo ponto: 4\n",
            "Digite a coordenada y do segundo ponto: 4\n",
            "Digite a coordenada x do terceiro ponto: 2\n",
            "Digite a coordenaxa y do terceiro ponto: 6\n",
            "O Triângulo é Escaleno\n"
          ]
        }
      ],
      "source": [
        "import math\n",
        "\n",
        "x1 = float(input('Digite a coordenada x do primeiro ponto: '))\n",
        "y1 = float(input('Digite a coordenada y do primeiro ponto'))\n",
        "\n",
        "x2 = float(input('Digite a coordenada x do segundo ponto: '))\n",
        "y2 = float(input('Digite a coordenada y do segundo ponto: '))\n",
        "\n",
        "x3 = float(input('Digite a coordenada x do terceiro ponto: '))\n",
        "y3 = float(input('Digite a coordenaxa y do terceiro ponto: '))\n",
        "\n",
        "distancia_primeiro_segundo = int(math.sqrt(((x2 - x1)**2) + ((y2 - y1)**2)))\n",
        "distancia_primeiro_terceiro = int(math.sqrt(((x3 - x1)**2) + ((y3 - y1)**2)))\n",
        "distancia_segundo_terceiro = int(math.sqrt(((x3 - x2)**2 + (y3 - y2)**2)))\n",
        "\n",
        "if (distancia_primeiro_segundo < distancia_primeiro_terceiro + distancia_segundo_terceiro and distancia_primeiro_terceiro < distancia_primeiro_segundo + distancia_segundo_terceiro and distancia_segundo_terceiro < distancia_primeiro_segundo + distancia_primeiro_terceiro):\n",
        "  if (distancia_primeiro_segundo == distancia_primeiro_terceiro == distancia_segundo_terceiro):\n",
        "    classe_triangulo = 'Equilatero'\n",
        "  elif (distancia_primeiro_segundo == distancia_primeiro_terceiro != distancia_segundo_terceiro or distancia_primeiro_segundo == distancia_segundo_terceiro != distancia_primeiro_terceiro or distancia_primeiro_terceiro == distancia_segundo_terceiro != distancia_primeiro_segundo):\n",
        "    classe_triangulo = 'Isóceles'\n",
        "  else:\n",
        "    classe_triangulo = 'Escaleno'\n",
        "\n",
        "  print(f'O Triângulo é {classe_triangulo}')\n",
        "else:\n",
        "  print('Não é um triângulo!')"
      ]
    },
    {
      "cell_type": "markdown",
      "source": [
        "Algoritmo que análisa se um número é um palíndromo ou não"
      ],
      "metadata": {
        "id": "EIyQOISLot3D"
      }
    },
    {
      "cell_type": "code",
      "source": [
        "numero = input(\"Digite um número inteiro: \")\n",
        "\n",
        "if numero == numero[::-1]:\n",
        "  print(\"É um palíndromo\")\n",
        "else:\n",
        "  print(\"Não é um palíndromo\")\n"
      ],
      "metadata": {
        "colab": {
          "base_uri": "https://localhost:8080/"
        },
        "id": "jAADswaOo6xF",
        "outputId": "4a203483-7763-4503-dfdc-19acf92d31d2"
      },
      "execution_count": 5,
      "outputs": [
        {
          "output_type": "stream",
          "name": "stdout",
          "text": [
            "Digite um número inteiro: 1441\n",
            "É um palíndromo\n"
          ]
        }
      ]
    }
  ]
}